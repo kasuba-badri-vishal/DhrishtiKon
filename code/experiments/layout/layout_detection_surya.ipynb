{
 "cells": [
  {
   "cell_type": "code",
   "execution_count": 10,
   "metadata": {},
   "outputs": [],
   "source": [
    "import os\n",
    "import json\n",
    "from PIL import Image, ImageDraw, ImageFont\n",
    "from surya.layout import LayoutPredictor"
   ]
  },
  {
   "cell_type": "code",
   "execution_count": 11,
   "metadata": {},
   "outputs": [],
   "source": [
    "NAME = \"fast_test_batch\"\n",
    "\n",
    "IMG_DIR = f\"/data/BADRI/FINAL/THESIS/GRVQA/gr-doc-vqa-grounding/data/input/{NAME}/\"\n",
    "OUT_DIR = f\"/data/BADRI/FINAL/THESIS/GRVQA/gr-doc-vqa-grounding/data/output/{NAME}/surya/\"\n",
    "\n",
    "OUT_IMG_DIR = os.path.join(OUT_DIR, \"images/\")\n",
    "OUT_JSON_DIR = os.path.join(OUT_DIR, \"json/\")\n",
    "\n",
    "if not os.path.exists(OUT_DIR):\n",
    "    os.makedirs(OUT_DIR)\n",
    "if not os.path.exists(OUT_IMG_DIR):\n",
    "    os.makedirs(OUT_IMG_DIR)\n",
    "if not os.path.exists(OUT_JSON_DIR):\n",
    "    os.makedirs(OUT_JSON_DIR)\n"
   ]
  },
  {
   "cell_type": "code",
   "execution_count": 12,
   "metadata": {},
   "outputs": [
    {
     "name": "stdout",
     "output_type": "stream",
     "text": [
      "Loaded layout model s3://layout/2025_02_18 on device cuda with dtype torch.float16\n"
     ]
    }
   ],
   "source": [
    "layout_predictor = LayoutPredictor()"
   ]
  },
  {
   "cell_type": "code",
   "execution_count": 14,
   "metadata": {},
   "outputs": [
    {
     "name": "stderr",
     "output_type": "stream",
     "text": [
      "Recognizing layout: 100%|██████████| 1/1 [00:00<00:00,  3.28it/s]\n",
      "Recognizing layout: 100%|██████████| 1/1 [00:00<00:00,  3.28it/s]\n"
     ]
    }
   ],
   "source": [
    "for file in os.listdir(IMG_DIR):\n",
    "    IMG_PATH = os.path.join(IMG_DIR, file)\n",
    "\n",
    "\n",
    "    image = Image.open(IMG_PATH)\n",
    "\n",
    "    # layout_predictions is a list of dicts, one per image\n",
    "    layout_predictions = layout_predictor([image])\n",
    "\n",
    "    predictions = []\n",
    "\n",
    "    for block in layout_predictions[0].bboxes:\n",
    "        value = {\n",
    "            'bbox': block.bbox,\n",
    "            'layout': block.label,\n",
    "            'confidence': block.confidence\n",
    "        }\n",
    "\n",
    "        value['bbox'] = [round(x, 2) for x in value['bbox']]\n",
    "        predictions.append(value)\n",
    "\n",
    "        # Draw bounding boxes on the image\n",
    "        draw = ImageDraw.Draw(image)\n",
    "        draw.rectangle(value['bbox'], outline='red', width=2)\n",
    "\n",
    "        # draw the layout text on the image\n",
    "        # font = ImageFont.truetype(\"arial.ttf\", 16)\n",
    "        draw.text((value['bbox'][0], value['bbox'][1]-10), value['layout'], fill='red')\n",
    "\n",
    "        # Save the image with bounding boxes\n",
    "        image.save(f\"{OUT_IMG_DIR}/{file}\")\n",
    "\n",
    "        # save json file\n",
    "        with open(f\"{OUT_JSON_DIR}/{file.split('.')[0]}.json\", \"w\") as f:\n",
    "            json.dump(predictions, f, indent=4, ensure_ascii=False)\n"
   ]
  },
  {
   "cell_type": "code",
   "execution_count": null,
   "metadata": {},
   "outputs": [],
   "source": []
  }
 ],
 "metadata": {
  "kernelspec": {
   "display_name": "venv",
   "language": "python",
   "name": "python3"
  },
  "language_info": {
   "codemirror_mode": {
    "name": "ipython",
    "version": 3
   },
   "file_extension": ".py",
   "mimetype": "text/x-python",
   "name": "python",
   "nbconvert_exporter": "python",
   "pygments_lexer": "ipython3",
   "version": "3.10.12"
  }
 },
 "nbformat": 4,
 "nbformat_minor": 2
}
